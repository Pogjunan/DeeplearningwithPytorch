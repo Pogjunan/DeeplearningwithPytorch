{
 "cells": [
  {
   "cell_type": "markdown",
   "id": "3e31933e-87a7-41db-9143-5fb5b55efe93",
   "metadata": {},
   "source": [
    "# `[7]-4` class : `__init__` 과 같은 언더바함수"
   ]
  },
  {
   "cell_type": "markdown",
   "id": "6da1734a-bd4d-403f-b745-8a84d4bb2c12",
   "metadata": {},
   "source": [
    "- `복습`\n",
    "<br>\n",
    "전 시간에 class 지정과 def 로 함수지정 , self 에 대해서 배웠다.\n"
   ]
  },
  {
   "cell_type": "code",
   "execution_count": 1,
   "id": "c7a818c9-f45c-42e4-acc9-08e5b0492071",
   "metadata": {},
   "outputs": [],
   "source": [
    "from IPython.core.display import HTML"
   ]
  },
  {
   "cell_type": "code",
   "execution_count": 2,
   "id": "612f852d-8f6d-43b9-9d0e-88de3d14a4fd",
   "metadata": {},
   "outputs": [],
   "source": [
    "class stat_dist:\n",
    "    def show(self):\n",
    "        distribution = self.html_distribution.format(\n",
    "            ttl = self.title,\n",
    "            url= self.imgurl,\n",
    "            Q = self.ques,\n",
    "            A = self.ans,\n",
    "            h = self.highlight\n",
    "        )\n",
    "        display(HTML(distribution))\n"
   ]
  },
  {
   "cell_type": "code",
   "execution_count": 3,
   "id": "af6d390c-ead7-46ef-b566-ee9ab94c868d",
   "metadata": {},
   "outputs": [],
   "source": [
    "norm = stat_dist()"
   ]
  },
  {
   "cell_type": "code",
   "execution_count": 4,
   "id": "e5816170-ed0b-4443-99f4-b4af479941fc",
   "metadata": {},
   "outputs": [],
   "source": [
    "norm.title = '정규분포'\n",
    "norm.imgurl = '정규분포.png'\n",
    "norm.ques = \"Q : 표준정규분포의 평균과 분산은 얼마일까요?\"\n",
    "norm.ans = \"A: 평균은 0 이고 분산은 1입니다.\"\n",
    "norm.highlight = '표준정규분포'\n",
    "norm.html_distribution =\\\n",
    "'''\n",
    "<style>\n",
    "    .title {{\n",
    "        font-family: \"Times New Roman\", serif;\n",
    "        font-size: 30px;\n",
    "        font-weight: 900;\n",
    "    }}\n",
    "    .text {{\n",
    "        font-family: \"Arial\", sans-serif;\n",
    "        font-size: 20px;\n",
    "        font-style: italic;\n",
    "    }}\n",
    "    .highlight {{\n",
    "        font-family: \"Montserrat\", monospace;\n",
    "        font-size: 35px;\n",
    "        font-weight: 900;\n",
    "        text-decoration: underline;\n",
    "        font-style: normal;\n",
    "        color: darkblue;\n",
    "        background-color: #FFFF00;\n",
    "    }}\n",
    "</style>\n",
    "<p class=\"title\">{ttl}</p>\n",
    "<img src={url} width=\"600\">\n",
    "<p> \\n </p>\n",
    "<p class=\"text\">{Q}</p>\n",
    "<p class=\"text\">{A}</p>\n",
    "<p class=\"title\"> 이건 <span class=\"highlight\">{h}</span></p>\n",
    "'''"
   ]
  },
  {
   "cell_type": "code",
   "execution_count": 5,
   "id": "a2e96289-0b03-4205-abc5-d61bbf5162f4",
   "metadata": {},
   "outputs": [
    {
     "data": {
      "text/html": [
       "\n",
       "<style>\n",
       "    .title {\n",
       "        font-family: \"Times New Roman\", serif;\n",
       "        font-size: 30px;\n",
       "        font-weight: 900;\n",
       "    }\n",
       "    .text {\n",
       "        font-family: \"Arial\", sans-serif;\n",
       "        font-size: 20px;\n",
       "        font-style: italic;\n",
       "    }\n",
       "    .highlight {\n",
       "        font-family: \"Montserrat\", monospace;\n",
       "        font-size: 35px;\n",
       "        font-weight: 900;\n",
       "        text-decoration: underline;\n",
       "        font-style: normal;\n",
       "        color: darkblue;\n",
       "        background-color: #FFFF00;\n",
       "    }\n",
       "</style>\n",
       "<p class=\"title\">정규분포</p>\n",
       "<img src=정규분포.png width=\"600\">\n",
       "<p> \n",
       " </p>\n",
       "<p class=\"text\">Q : 표준정규분포의 평균과 분산은 얼마일까요?</p>\n",
       "<p class=\"text\">A: 평균은 0 이고 분산은 1입니다.</p>\n",
       "<p class=\"title\"> 이건 <span class=\"highlight\">표준정규분포</span></p>\n"
      ],
      "text/plain": [
       "<IPython.core.display.HTML object>"
      ]
     },
     "metadata": {},
     "output_type": "display_data"
    }
   ],
   "source": [
    "norm.show()"
   ]
  },
  {
   "cell_type": "markdown",
   "id": "bbd16f74-dc2d-4705-b0e9-b8d37ff800db",
   "metadata": {},
   "source": [
    "# 1. `__init__`"
   ]
  },
  {
   "cell_type": "markdown",
   "id": "700e09b5-5d7b-4cd3-8d66-1d0ac4f72dca",
   "metadata": {},
   "source": [
    "`-` 존재이유 : __init__ 과 같이 언더바2개씩 양 옆으로 감싸져있는 함수는 쉽게 사용하기위해서 입니다."
   ]
  },
  {
   "cell_type": "markdown",
   "id": "9856cb98-0d8e-4b10-90aa-ed6973995e00",
   "metadata": {},
   "source": [
    "`-` 그 중 `__init__`: 처음 선언하기가 귀찮아서 실행 선언시켜놓는 함수."
   ]
  },
  {
   "cell_type": "markdown",
   "id": "df1d4913-ff31-48d5-8f76-6d84f29ecba6",
   "metadata": {},
   "source": [
    "### `__init__` 함수 코드로 실습"
   ]
  },
  {
   "cell_type": "code",
   "execution_count": 6,
   "id": "7f0bc80a-db23-44d5-99c6-3c3d5b3e0c9f",
   "metadata": {},
   "outputs": [],
   "source": [
    "class stat_dist:\n",
    "    def show(self):\n",
    "        distribution = self.html_distribution.format(\n",
    "            ttl = self.title,\n",
    "            url= self.imgurl,\n",
    "            Q = self.ques,\n",
    "            A = self.ans,\n",
    "            h = self.highlight\n",
    "        )\n",
    "        display(HTML(distribution))\n"
   ]
  },
  {
   "cell_type": "code",
   "execution_count": 7,
   "id": "27f649ca-e1e5-490a-9e65-499df873fffc",
   "metadata": {},
   "outputs": [],
   "source": [
    "norm = stat_dist()"
   ]
  },
  {
   "cell_type": "code",
   "execution_count": 8,
   "id": "05108ec4-4977-45d1-8605-b19af2396731",
   "metadata": {},
   "outputs": [
    {
     "data": {
      "text/plain": [
       "<bound method stat_dist.show of <__main__.stat_dist object at 0x7f3c31f56170>>"
      ]
     },
     "execution_count": 8,
     "metadata": {},
     "output_type": "execute_result"
    }
   ],
   "source": [
    "norm.show #show 함수가 존재한다 + show함수는 새로운 인수를 받지않는다."
   ]
  },
  {
   "cell_type": "code",
   "execution_count": 9,
   "id": "b6e630fd-3e83-4d63-a398-92780b811858",
   "metadata": {},
   "outputs": [],
   "source": [
    "# 그냥 init 선언\n",
    "def init(norm):\n",
    "    norm.title = '정규분포'\n",
    "    norm.imgurl = '정규분포.png'\n",
    "    norm.ques = \"Q : 표준정규분포의 평균과 분산은 얼마일까요?\"\n",
    "    norm.ans = \"A: 평균은 0 이고 분산은 1입니다.\"\n",
    "    norm.highlight = '표준정규분포'\n",
    "    norm.html_distribution =\\\n",
    "'''\n",
    "<style>\n",
    "    .title {{\n",
    "        font-family: \"Times New Roman\", serif;\n",
    "        font-size: 30px;\n",
    "        font-weight: 900;\n",
    "    }}\n",
    "    .text {{\n",
    "        font-family: \"Arial\", sans-serif;\n",
    "        font-size: 20px;\n",
    "        font-style: italic;\n",
    "    }}\n",
    "    .highlight {{\n",
    "        font-family: \"Montserrat\", monospace;\n",
    "        font-size: 35px;\n",
    "        font-weight: 900;\n",
    "        text-decoration: underline;\n",
    "        font-style: normal;\n",
    "        color: darkblue;\n",
    "        background-color: #FFFF00;\n",
    "    }}\n",
    "</style>\n",
    "<p class=\"title\">{ttl}</p>\n",
    "<img src={url} width=\"600\">\n",
    "<p> \\n </p>\n",
    "<p class=\"text\">{Q}</p>\n",
    "<p class=\"text\">{A}</p>\n",
    "<p class=\"title\"> 이건 <span class=\"highlight\">{h}</span></p>\n",
    "'''"
   ]
  },
  {
   "cell_type": "code",
   "execution_count": 10,
   "id": "0c85c281-838f-4317-b097-fd3c3b9d8cf9",
   "metadata": {},
   "outputs": [],
   "source": [
    "init(norm)"
   ]
  },
  {
   "cell_type": "code",
   "execution_count": 11,
   "id": "50bd03d4-8c06-49a7-af66-840790d8bc60",
   "metadata": {},
   "outputs": [
    {
     "data": {
      "text/plain": [
       "'정규분포'"
      ]
     },
     "execution_count": 11,
     "metadata": {},
     "output_type": "execute_result"
    }
   ],
   "source": [
    "norm.title"
   ]
  },
  {
   "cell_type": "code",
   "execution_count": 12,
   "id": "2a61fe5e-b283-46f4-a438-82c6b9d55988",
   "metadata": {
    "scrolled": true
   },
   "outputs": [
    {
     "data": {
      "text/html": [
       "\n",
       "<style>\n",
       "    .title {\n",
       "        font-family: \"Times New Roman\", serif;\n",
       "        font-size: 30px;\n",
       "        font-weight: 900;\n",
       "    }\n",
       "    .text {\n",
       "        font-family: \"Arial\", sans-serif;\n",
       "        font-size: 20px;\n",
       "        font-style: italic;\n",
       "    }\n",
       "    .highlight {\n",
       "        font-family: \"Montserrat\", monospace;\n",
       "        font-size: 35px;\n",
       "        font-weight: 900;\n",
       "        text-decoration: underline;\n",
       "        font-style: normal;\n",
       "        color: darkblue;\n",
       "        background-color: #FFFF00;\n",
       "    }\n",
       "</style>\n",
       "<p class=\"title\">정규분포</p>\n",
       "<img src=정규분포.png width=\"600\">\n",
       "<p> \n",
       " </p>\n",
       "<p class=\"text\">Q : 표준정규분포의 평균과 분산은 얼마일까요?</p>\n",
       "<p class=\"text\">A: 평균은 0 이고 분산은 1입니다.</p>\n",
       "<p class=\"title\"> 이건 <span class=\"highlight\">표준정규분포</span></p>\n"
      ],
      "text/plain": [
       "<IPython.core.display.HTML object>"
      ]
     },
     "metadata": {},
     "output_type": "display_data"
    }
   ],
   "source": [
    "norm.show()"
   ]
  },
  {
   "cell_type": "markdown",
   "id": "7dc2a4dd-cf6b-442e-84eb-01ec62fd7996",
   "metadata": {},
   "source": [
    ">"
   ]
  },
  {
   "cell_type": "markdown",
   "id": "5856fa7d-322c-4f85-b56b-a3b9d5d6374b",
   "metadata": {},
   "source": [
    ">"
   ]
  },
  {
   "cell_type": "markdown",
   "id": "17d27851-ac73-41fb-a42b-f793784eb1b1",
   "metadata": {},
   "source": [
    "# class 내부에 init 을 넣자!"
   ]
  },
  {
   "cell_type": "markdown",
   "id": "c77057ce-3dc7-4941-a96e-92c166d2734e",
   "metadata": {},
   "source": [
    "- init 에 self 를 써서 어떤 변수라도 들어갈 수 있게 하기."
   ]
  },
  {
   "cell_type": "code",
   "execution_count": 13,
   "id": "190871c3-df65-4d10-96a5-baa89d5b2976",
   "metadata": {},
   "outputs": [],
   "source": [
    "class stat_dist:\n",
    "    # 그냥 init 선언\n",
    "    def init(self):\n",
    "        self.title = '정규분포'\n",
    "        self.imgurl = '정규분포.png'\n",
    "        self.ques = \"Q : 표준정규분포의 평균과 분산은 얼마일까요?\"\n",
    "        self.ans = \"A: 평균은 0 이고 분산은 1입니다.\"\n",
    "        self.highlight = '표준정규분포'\n",
    "        self.html_distribution =\\\n",
    "    '''\n",
    "    <style>\n",
    "        .title {{\n",
    "            font-family: \"Times New Roman\", serif;\n",
    "            font-size: 30px;\n",
    "            font-weight: 900;\n",
    "        }}\n",
    "        .text {{\n",
    "            font-family: \"Arial\", sans-serif;\n",
    "            font-size: 20px;\n",
    "            font-style: italic;\n",
    "        }}\n",
    "        .highlight {{\n",
    "            font-family: \"Montserrat\", monospace;\n",
    "            font-size: 35px;\n",
    "            font-weight: 900;\n",
    "            text-decoration: underline;\n",
    "            font-style: normal;\n",
    "            color: darkblue;\n",
    "            background-color: #FFFF00;\n",
    "        }}\n",
    "    </style>\n",
    "    <p class=\"title\">{ttl}</p>\n",
    "    <img src={url} width=\"600\">\n",
    "    <p> \\n </p>\n",
    "    <p class=\"text\">{Q}</p>\n",
    "    <p class=\"text\">{A}</p>\n",
    "    <p class=\"title\"> 이건 <span class=\"highlight\">{h}</span></p>\n",
    "    '''\n",
    "    \n",
    "    def show(self):\n",
    "        distribution = self.html_distribution.format(\n",
    "            ttl = self.title,\n",
    "            url= self.imgurl,\n",
    "            Q = self.ques,\n",
    "            A = self.ans,\n",
    "            h = self.highlight\n",
    "        )\n",
    "        display(HTML(distribution))\n"
   ]
  },
  {
   "cell_type": "code",
   "execution_count": 14,
   "id": "8fd20ce0-6fa1-4496-aa96-38f1b77ed322",
   "metadata": {},
   "outputs": [],
   "source": [
    "geometric = stat_dist()"
   ]
  },
  {
   "cell_type": "code",
   "execution_count": 15,
   "id": "96aee7a6-5877-4f6a-a2c5-3603f0ea74fd",
   "metadata": {},
   "outputs": [
    {
     "data": {
      "text/plain": [
       "<bound method stat_dist.init of <__main__.stat_dist object at 0x7f3c31f2ff10>>"
      ]
     },
     "execution_count": 15,
     "metadata": {},
     "output_type": "execute_result"
    }
   ],
   "source": [
    "geometric.init"
   ]
  },
  {
   "cell_type": "code",
   "execution_count": 16,
   "id": "2a296f79-d7f9-4507-9882-e0e73790e275",
   "metadata": {},
   "outputs": [
    {
     "data": {
      "text/plain": [
       "<bound method stat_dist.show of <__main__.stat_dist object at 0x7f3c31f2ff10>>"
      ]
     },
     "execution_count": 16,
     "metadata": {},
     "output_type": "execute_result"
    }
   ],
   "source": [
    "geometric.show"
   ]
  },
  {
   "cell_type": "markdown",
   "id": "0668099b-1397-46af-a7b9-6d1aa4cec6ca",
   "metadata": {},
   "source": [
    "위의 2개의 함수가 실행이 된다."
   ]
  },
  {
   "cell_type": "code",
   "execution_count": 17,
   "id": "b0b7c5b2-508a-4fb9-a763-444ea35e2615",
   "metadata": {},
   "outputs": [],
   "source": [
    "geometric.init()"
   ]
  },
  {
   "cell_type": "code",
   "execution_count": 18,
   "id": "2b2d784a-b92d-4716-9d88-d629c84059a3",
   "metadata": {},
   "outputs": [
    {
     "data": {
      "text/plain": [
       "'정규분포.png'"
      ]
     },
     "execution_count": 18,
     "metadata": {},
     "output_type": "execute_result"
    }
   ],
   "source": [
    "geometric.imgurl #현재 함수내에 기하분포가 아닌 정규분포가 들어가있어서 정규분포만 된다."
   ]
  },
  {
   "cell_type": "markdown",
   "id": "f9ebfedf-fdee-4989-a09e-6867f2b1db73",
   "metadata": {},
   "source": [
    "`-` geometric 예시로 바꾸는 과정은 조금 뒤에 하고 현재 정규분포로 하자."
   ]
  },
  {
   "cell_type": "code",
   "execution_count": 19,
   "id": "50e9c05a-2580-41b9-b160-a7331d71ceff",
   "metadata": {},
   "outputs": [],
   "source": [
    "norm = stat_dist()"
   ]
  },
  {
   "cell_type": "code",
   "execution_count": 20,
   "id": "32e68dc1-964d-4ac1-90a0-34eacdf26e87",
   "metadata": {},
   "outputs": [],
   "source": [
    "norm.init()"
   ]
  },
  {
   "cell_type": "code",
   "execution_count": 21,
   "id": "76147a72-389e-4d9c-a45d-f79a12d73bf2",
   "metadata": {},
   "outputs": [
    {
     "data": {
      "text/plain": [
       "'정규분포.png'"
      ]
     },
     "execution_count": 21,
     "metadata": {},
     "output_type": "execute_result"
    }
   ],
   "source": [
    "norm.imgurl"
   ]
  },
  {
   "cell_type": "code",
   "execution_count": 22,
   "id": "4eb3f8d4-2935-4842-81b2-dc30c5edcffa",
   "metadata": {},
   "outputs": [
    {
     "data": {
      "text/plain": [
       "'표준정규분포'"
      ]
     },
     "execution_count": 22,
     "metadata": {},
     "output_type": "execute_result"
    }
   ],
   "source": [
    "norm.highlight"
   ]
  },
  {
   "cell_type": "code",
   "execution_count": 23,
   "id": "92364209-9b64-4f2b-80fd-851c12db1bd2",
   "metadata": {},
   "outputs": [
    {
     "data": {
      "text/html": [
       "\n",
       "    <style>\n",
       "        .title {\n",
       "            font-family: \"Times New Roman\", serif;\n",
       "            font-size: 30px;\n",
       "            font-weight: 900;\n",
       "        }\n",
       "        .text {\n",
       "            font-family: \"Arial\", sans-serif;\n",
       "            font-size: 20px;\n",
       "            font-style: italic;\n",
       "        }\n",
       "        .highlight {\n",
       "            font-family: \"Montserrat\", monospace;\n",
       "            font-size: 35px;\n",
       "            font-weight: 900;\n",
       "            text-decoration: underline;\n",
       "            font-style: normal;\n",
       "            color: darkblue;\n",
       "            background-color: #FFFF00;\n",
       "        }\n",
       "    </style>\n",
       "    <p class=\"title\">정규분포</p>\n",
       "    <img src=정규분포.png width=\"600\">\n",
       "    <p> \n",
       " </p>\n",
       "    <p class=\"text\">Q : 표준정규분포의 평균과 분산은 얼마일까요?</p>\n",
       "    <p class=\"text\">A: 평균은 0 이고 분산은 1입니다.</p>\n",
       "    <p class=\"title\"> 이건 <span class=\"highlight\">표준정규분포</span></p>\n",
       "    "
      ],
      "text/plain": [
       "<IPython.core.display.HTML object>"
      ]
     },
     "metadata": {},
     "output_type": "display_data"
    }
   ],
   "source": [
    "norm.show()"
   ]
  },
  {
   "cell_type": "markdown",
   "id": "2d39b1bf-f5d4-40a2-a5de-844acbbc9b92",
   "metadata": {},
   "source": [
    "# `__init__`\n",
    "`-` 위의 것을 보니 `def init(self)` 를 지정한 뒤 norm.init() 을 해주는 것이 고정이다. 이 과정을 자동으로 만들게 해주는 작업이다."
   ]
  },
  {
   "cell_type": "markdown",
   "id": "fca205df-955f-4e85-af35-d78b714fcb6b",
   "metadata": {},
   "source": [
    "### `#`코드"
   ]
  },
  {
   "cell_type": "code",
   "execution_count": 24,
   "id": "e29d35c1-16b3-428e-a3f6-752295e5442d",
   "metadata": {},
   "outputs": [],
   "source": [
    "class stat_dist:\n",
    "    # 그냥 init 선언\n",
    "    def __init__(self):\n",
    "        self.title = '정규분포'\n",
    "        self.imgurl = '정규분포.png'\n",
    "        self.ques = \"Q : 표준정규분포의 평균과 분산은 얼마일까요?\"\n",
    "        self.ans = \"A: 평균은 0 이고 분산은 1입니다.\"\n",
    "        self.highlight = '표준정규분포'\n",
    "        self.html_distribution =\\\n",
    "    '''\n",
    "    <style>\n",
    "        .title {{\n",
    "            font-family: \"Times New Roman\", serif;\n",
    "            font-size: 30px;\n",
    "            font-weight: 900;\n",
    "        }}\n",
    "        .text {{\n",
    "            font-family: \"Arial\", sans-serif;\n",
    "            font-size: 20px;\n",
    "            font-style: italic;\n",
    "        }}\n",
    "        .highlight {{\n",
    "            font-family: \"Montserrat\", monospace;\n",
    "            font-size: 35px;\n",
    "            font-weight: 900;\n",
    "            text-decoration: underline;\n",
    "            font-style: normal;\n",
    "            color: darkblue;\n",
    "            background-color: #FFFF00;\n",
    "        }}\n",
    "    </style>\n",
    "    <p class=\"title\">{ttl}</p>\n",
    "    <img src={url} width=\"600\">\n",
    "    <p> \\n </p>\n",
    "    <p class=\"text\">{Q}</p>\n",
    "    <p class=\"text\">{A}</p>\n",
    "    <p class=\"title\"> 이건 <span class=\"highlight\">{h}</span></p>\n",
    "    '''\n",
    "    \n",
    "    def show(self):\n",
    "        distribution = self.html_distribution.format(\n",
    "            ttl = self.title,\n",
    "            url= self.imgurl,\n",
    "            Q = self.ques,\n",
    "            A = self.ans,\n",
    "            h = self.highlight\n",
    "        )\n",
    "        display(HTML(distribution))\n"
   ]
  },
  {
   "cell_type": "code",
   "execution_count": 25,
   "id": "8871adf8-0bbf-46c3-b751-ccb90a60d5f2",
   "metadata": {},
   "outputs": [],
   "source": [
    "norm1 = stat_dist()"
   ]
  },
  {
   "cell_type": "markdown",
   "id": "c74f0144-2e59-4f58-af49-475504bd1fb2",
   "metadata": {},
   "source": [
    "`norm1.` 을 이전에 했을 때는 norm1.init() 을 안해줘서 norm1 에 대한 함수가 지정되지않았는데 현재는 `__init__` 으로 바꾼 뒤에는 `norm1.` 시에 자동으로 함수들이 부여되고있다."
   ]
  },
  {
   "cell_type": "markdown",
   "id": "2cfbab65-0f8a-48c1-9417-1a5d8d689856",
   "metadata": {},
   "source": [
    "`-` 주의 : `def __init__` 이면 `__init__` 보여야되지않나? \n",
    "<br>\n",
    "`#` 숨어있어서 안보이게 만든 것입니다."
   ]
  },
  {
   "cell_type": "markdown",
   "id": "cf328a35-d21e-4bad-b70e-52221f567424",
   "metadata": {},
   "source": [
    "`강제소환`"
   ]
  },
  {
   "cell_type": "code",
   "execution_count": 26,
   "id": "b6668956-9364-43b7-a5ec-db8cfc17d386",
   "metadata": {},
   "outputs": [
    {
     "data": {
      "text/plain": [
       "<bound method stat_dist.__init__ of <__main__.stat_dist object at 0x7f3c31fcce80>>"
      ]
     },
     "execution_count": 26,
     "metadata": {},
     "output_type": "execute_result"
    }
   ],
   "source": [
    "norm1.__init__"
   ]
  },
  {
   "cell_type": "code",
   "execution_count": 27,
   "id": "de28d847-f8c3-4822-82b6-7f1cf98ab2d4",
   "metadata": {},
   "outputs": [
    {
     "data": {
      "text/plain": [
       "\u001b[0;31mSignature:\u001b[0m \u001b[0mnorm1\u001b[0m\u001b[0;34m.\u001b[0m\u001b[0m__init__\u001b[0m\u001b[0;34m(\u001b[0m\u001b[0;34m)\u001b[0m\u001b[0;34m\u001b[0m\u001b[0;34m\u001b[0m\u001b[0m\n",
       "\u001b[0;31mDocstring:\u001b[0m Initialize self.  See help(type(self)) for accurate signature.\n",
       "\u001b[0;31mSource:\u001b[0m   \n",
       "    \u001b[0;32mdef\u001b[0m \u001b[0m__init__\u001b[0m\u001b[0;34m(\u001b[0m\u001b[0mself\u001b[0m\u001b[0;34m)\u001b[0m\u001b[0;34m:\u001b[0m\u001b[0;34m\u001b[0m\n",
       "\u001b[0;34m\u001b[0m        \u001b[0mself\u001b[0m\u001b[0;34m.\u001b[0m\u001b[0mtitle\u001b[0m \u001b[0;34m=\u001b[0m \u001b[0;34m'정규분포'\u001b[0m\u001b[0;34m\u001b[0m\n",
       "\u001b[0;34m\u001b[0m        \u001b[0mself\u001b[0m\u001b[0;34m.\u001b[0m\u001b[0mimgurl\u001b[0m \u001b[0;34m=\u001b[0m \u001b[0;34m'정규분포.png'\u001b[0m\u001b[0;34m\u001b[0m\n",
       "\u001b[0;34m\u001b[0m        \u001b[0mself\u001b[0m\u001b[0;34m.\u001b[0m\u001b[0mques\u001b[0m \u001b[0;34m=\u001b[0m \u001b[0;34m\"Q : 표준정규분포의 평균과 분산은 얼마일까요?\"\u001b[0m\u001b[0;34m\u001b[0m\n",
       "\u001b[0;34m\u001b[0m        \u001b[0mself\u001b[0m\u001b[0;34m.\u001b[0m\u001b[0mans\u001b[0m \u001b[0;34m=\u001b[0m \u001b[0;34m\"A: 평균은 0 이고 분산은 1입니다.\"\u001b[0m\u001b[0;34m\u001b[0m\n",
       "\u001b[0;34m\u001b[0m        \u001b[0mself\u001b[0m\u001b[0;34m.\u001b[0m\u001b[0mhighlight\u001b[0m \u001b[0;34m=\u001b[0m \u001b[0;34m'표준정규분포'\u001b[0m\u001b[0;34m\u001b[0m\n",
       "\u001b[0;34m\u001b[0m        \u001b[0mself\u001b[0m\u001b[0;34m.\u001b[0m\u001b[0mhtml_distribution\u001b[0m \u001b[0;34m=\u001b[0m\\\n",
       "    \u001b[0;34m'''\u001b[0m\n",
       "\u001b[0;34m    <style>\u001b[0m\n",
       "\u001b[0;34m        .title {{\u001b[0m\n",
       "\u001b[0;34m            font-family: \"Times New Roman\", serif;\u001b[0m\n",
       "\u001b[0;34m            font-size: 30px;\u001b[0m\n",
       "\u001b[0;34m            font-weight: 900;\u001b[0m\n",
       "\u001b[0;34m        }}\u001b[0m\n",
       "\u001b[0;34m        .text {{\u001b[0m\n",
       "\u001b[0;34m            font-family: \"Arial\", sans-serif;\u001b[0m\n",
       "\u001b[0;34m            font-size: 20px;\u001b[0m\n",
       "\u001b[0;34m            font-style: italic;\u001b[0m\n",
       "\u001b[0;34m        }}\u001b[0m\n",
       "\u001b[0;34m        .highlight {{\u001b[0m\n",
       "\u001b[0;34m            font-family: \"Montserrat\", monospace;\u001b[0m\n",
       "\u001b[0;34m            font-size: 35px;\u001b[0m\n",
       "\u001b[0;34m            font-weight: 900;\u001b[0m\n",
       "\u001b[0;34m            text-decoration: underline;\u001b[0m\n",
       "\u001b[0;34m            font-style: normal;\u001b[0m\n",
       "\u001b[0;34m            color: darkblue;\u001b[0m\n",
       "\u001b[0;34m            background-color: #FFFF00;\u001b[0m\n",
       "\u001b[0;34m        }}\u001b[0m\n",
       "\u001b[0;34m    </style>\u001b[0m\n",
       "\u001b[0;34m    <p class=\"title\">{ttl}</p>\u001b[0m\n",
       "\u001b[0;34m    <img src={url} width=\"600\">\u001b[0m\n",
       "\u001b[0;34m    <p> \\n </p>\u001b[0m\n",
       "\u001b[0;34m    <p class=\"text\">{Q}</p>\u001b[0m\n",
       "\u001b[0;34m    <p class=\"text\">{A}</p>\u001b[0m\n",
       "\u001b[0;34m    <p class=\"title\"> 이건 <span class=\"highlight\">{h}</span></p>\u001b[0m\n",
       "\u001b[0;34m    '''\u001b[0m\u001b[0;34m\u001b[0m\u001b[0;34m\u001b[0m\u001b[0m\n",
       "\u001b[0;31mFile:\u001b[0m      /tmp/ipykernel_8426/1590627518.py\n",
       "\u001b[0;31mType:\u001b[0m      method"
      ]
     },
     "metadata": {},
     "output_type": "display_data"
    }
   ],
   "source": [
    "norm1.__init__??"
   ]
  },
  {
   "cell_type": "code",
   "execution_count": 29,
   "id": "20655ee8-4623-4a89-80f8-b9afef98787e",
   "metadata": {},
   "outputs": [
    {
     "data": {
      "text/html": [
       "\n",
       "    <style>\n",
       "        .title {\n",
       "            font-family: \"Times New Roman\", serif;\n",
       "            font-size: 30px;\n",
       "            font-weight: 900;\n",
       "        }\n",
       "        .text {\n",
       "            font-family: \"Arial\", sans-serif;\n",
       "            font-size: 20px;\n",
       "            font-style: italic;\n",
       "        }\n",
       "        .highlight {\n",
       "            font-family: \"Montserrat\", monospace;\n",
       "            font-size: 35px;\n",
       "            font-weight: 900;\n",
       "            text-decoration: underline;\n",
       "            font-style: normal;\n",
       "            color: darkblue;\n",
       "            background-color: #FFFF00;\n",
       "        }\n",
       "    </style>\n",
       "    <p class=\"title\">정규분포</p>\n",
       "    <img src=정규분포.png width=\"600\">\n",
       "    <p> \n",
       " </p>\n",
       "    <p class=\"text\">Q : 표준정규분포의 평균과 분산은 얼마일까요?</p>\n",
       "    <p class=\"text\">A: 평균은 0 이고 분산은 1입니다.</p>\n",
       "    <p class=\"title\"> 이건 <span class=\"highlight\">표준정규분포</span></p>\n",
       "    "
      ],
      "text/plain": [
       "<IPython.core.display.HTML object>"
      ]
     },
     "metadata": {},
     "output_type": "display_data"
    }
   ],
   "source": [
    "norm1.show() #norm."
   ]
  },
  {
   "cell_type": "code",
   "execution_count": null,
   "id": "9bc90486-62b6-4c54-97a6-5ad348134edd",
   "metadata": {},
   "outputs": [],
   "source": []
  }
 ],
 "metadata": {
  "kernelspec": {
   "display_name": "deep",
   "language": "python",
   "name": "deep"
  },
  "language_info": {
   "codemirror_mode": {
    "name": "ipython",
    "version": 3
   },
   "file_extension": ".py",
   "mimetype": "text/x-python",
   "name": "python",
   "nbconvert_exporter": "python",
   "pygments_lexer": "ipython3",
   "version": "3.10.13"
  }
 },
 "nbformat": 4,
 "nbformat_minor": 5
}
