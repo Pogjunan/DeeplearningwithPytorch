{
 "cells": [
  {
   "cell_type": "markdown",
   "id": "20838a8e-cf7f-47e0-8149-88c231d76763",
   "metadata": {},
   "source": [
    "# [10] CNN 돌리기 (CNN Activatioon)"
   ]
  },
  {
   "cell_type": "code",
   "execution_count": 1,
   "id": "f9ab5fd8-ff2c-401b-8237-50c565c4f731",
   "metadata": {},
   "outputs": [],
   "source": [
    "# CIFAR10 데이터 \n",
    "# 설명 : 10개 클래스  ,5만개 train image , 1만개 test image"
   ]
  },
  {
   "cell_type": "markdown",
   "id": "84dd44df-67da-4442-8112-8e248d32b189",
   "metadata": {},
   "source": [
    "# 맥락\n",
    "\n",
    "1. `Imports` 라이브러리\n",
    "2. `transforms data` 수행가능한 데이터 만들기(performing)\n",
    "3. `batch size` 세팅하기 train,test 셋 다운로드하기.\n",
    "4. validation 20% 로 대략설정하여 데이터를 sampler 로 나누기\n",
    "5. `DataLoader()` 함수로 각 세트의 배치정하기\n",
    "6. 구조 정의하기. (Define the architecture of your network)\n",
    "7. 파라미터정의하기.(epoch 도 정의)\n",
    "8. 실제로 모델 학습시키기. loss 와 accuracy 계산.\n",
    "9. Plot 으로 그래프그리기.\n"
   ]
  },
  {
   "cell_type": "markdown",
   "id": "79664e4a-7fa9-402e-8e2e-a759a2a80555",
   "metadata": {},
   "source": [
    "## Data Augmentation (데이터증강)\n",
    "\n",
    "`-` 중요성 : 1. 숫자가 많으면 학습이 잘된다.(데이터부족해결, 일반화 성능향상, 과적합 방지) 그래서 여러 변형을 주며 데이터증강을 할 필요가 있다."
   ]
  },
  {
   "cell_type": "markdown",
   "id": "151eb992-c492-4acb-ad9f-b8b7db4e49d0",
   "metadata": {},
   "source": [
    "# 코드"
   ]
  },
  {
   "cell_type": "code",
   "execution_count": 2,
   "id": "499246d6-af6d-423a-8afe-d61ed9274d6d",
   "metadata": {},
   "outputs": [],
   "source": [
    "import numpy as np\n",
    "import torch\n",
    "from torch import nn,optim\n",
    "import torch.nn.functional as F\n",
    "from torchvision import datasets\n",
    "import torchvision.transforms as transforms\n",
    "from torch.utils.data.sampler import SubsetRandomSampler\n",
    "from sklearn.metrics import accuracy_score\n",
    "import matplotlib.pyplot as plt"
   ]
  },
  {
   "cell_type": "code",
   "execution_count": 3,
   "id": "d5e52089-0943-4351-a5f0-9e4ca110f069",
   "metadata": {},
   "outputs": [],
   "source": [
    "transform = transforms.Compose([transforms.ToTensor(),\n",
    "                    transforms.Normalize((0.5,0.5,0.5),\n",
    "                                         (0.5,0.5,0.5))])"
   ]
  },
  {
   "cell_type": "code",
   "execution_count": 4,
   "id": "53e4bcd2-e3f8-44ee-b0da-94946ca5dff2",
   "metadata": {},
   "outputs": [
    {
     "name": "stdout",
     "output_type": "stream",
     "text": [
      "Files already downloaded and verified\n",
      "Files already downloaded and verified\n"
     ]
    }
   ],
   "source": [
    "batch_size=100\n",
    "\n",
    "train_data =datasets.CIFAR10('data',train=True, \n",
    "                             download=True,\n",
    "                             transform=transform)\n",
    "test_data =datasets.CIFAR10('data',train=False, \n",
    "                             download=True,\n",
    "                             transform=transform)\n"
   ]
  },
  {
   "cell_type": "code",
   "execution_count": 5,
   "id": "87928702-02ff-443a-9743-ab2b52e4e6d1",
   "metadata": {},
   "outputs": [],
   "source": [
    "dev_size = 0.2\n",
    "idx = list(range(len(train_data)))\n",
    "np.random.shuffle(idx)\n",
    "split_size = int(np.floor(dev_size * len(train_data)))\n",
    "train_idx,dev_idx = idx[split_size:],idx[:split_size]\n",
    "\n",
    "train_sampler = SubsetRandomSampler(train_idx) #훈련셋 무작위 선택\n",
    "dev_sampler = SubsetRandomSampler(dev_idx)\n",
    "\n",
    "# 현재과정은 test 셋은 나두고 train셋을 8:2 로 나누어\n",
    "#dev 셋에서 학습 성능을 검증하기 위해 만든 세트입니다."
   ]
  },
  {
   "cell_type": "code",
   "execution_count": 6,
   "id": "cec2a610-c547-402d-aa0a-9a84f44c0080",
   "metadata": {},
   "outputs": [],
   "source": [
    "train_loader = \\\n",
    "torch.utils.data.DataLoader(train_data,\n",
    "                            batch_size=batch_size,\n",
    "                            sampler=train_sampler)\n",
    "dev_loader = \\\n",
    "torch.utils.data.DataLoader(train_data,\n",
    "                            batch_size=batch_size,\n",
    "                            sampler=dev_sampler)\n",
    "test_loader = \\\n",
    "torch.utils.data.DataLoader(test_data,\n",
    "                            batch_size=batch_size)"
   ]
  },
  {
   "cell_type": "markdown",
   "id": "4654b895-702f-401e-bad1-d80f66abf711",
   "metadata": {},
   "source": [
    "#이게 기초\n",
    "```python\n",
    "class CNN(nn.Module): #Pytorch 의 모든 신경망 모델의 상속 모델이다.\n",
    "    def __init__(self):\n",
    "        super(CNN, self).__init__()\n",
    "        # 모델의 레이어들을 여기에 정의\n",
    "\n",
    "    def forward(self, x):\n",
    "        # 순전파 동작을 여기에 정의\n",
    "        return x\n",
    "```"
   ]
  },
  {
   "cell_type": "code",
   "execution_count": 7,
   "id": "90261eef-e099-41d4-8115-d88e36fe338f",
   "metadata": {},
   "outputs": [],
   "source": [
    "class CNN(nn.Module):\n",
    "    def __init__(self):\n",
    "        super(CNN, self).__init__()\n",
    "        \n",
    "        # 모델의 레이어들을 여기에 정의\n",
    "        self.conv1 = nn.Conv2d(3,10,3,1,1)\n",
    "        self.conv2 = nn.Conv2d(10,20,3,1,1)\n",
    "        self.conv3 = nn.Conv2d(20,40,3,1,1)\n",
    "        self.pool = nn.MaxPool2d(2,2)\n",
    "\n",
    "        self.linear1 = nn.Linear(40*4*4,100)\n",
    "        self.linear2 = nn.Linear(100,10)\n",
    "        self.dropout = nn.Dropout(0.2)\n",
    "\n",
    "    \n",
    "    def forward(self, x):\n",
    "        # 순전파 동작을 여기에 정의\n",
    "        x = self.pool(F.relu(self.conv1(x)))\n",
    "        x = self.pool(F.relu(self.conv2(x)))\n",
    "        x = self.pool(F.relu(self.conv3(x)))\n",
    "\n",
    "\n",
    "        x = x.view(-1,40*4*4)\n",
    "        x = self.dropout(x)\n",
    "        x = F.relu(self.linear1(x))\n",
    "        x = self.dropout(x)\n",
    "        x = F.log_softmax(self.linear2(x), dim=1)\n",
    "        return x\n"
   ]
  },
  {
   "cell_type": "code",
   "execution_count": 8,
   "id": "e9544a94-d03e-450e-9822-d744a2e9c110",
   "metadata": {},
   "outputs": [],
   "source": [
    "model = CNN().to(\"cuda\")\n",
    "loss_function = nn.NLLLoss() #negative log-likelihood)\n",
    "optimizer = optim.Adam(model.parameters(),lr=0.001)\n",
    "epochs = 50"
   ]
  },
  {
   "cell_type": "code",
   "execution_count": 9,
   "id": "ee36afe1-a3db-4fe1-ac40-fc48e4de027e",
   "metadata": {
    "tags": []
   },
   "outputs": [
    {
     "name": "stderr",
     "output_type": "stream",
     "text": [
      "/root/anaconda3/envs/deep/lib/python3.10/site-packages/torch/nn/modules/conv.py:456: UserWarning: Applied workaround for CuDNN issue, install nvrtc.so (Triggered internally at /opt/conda/conda-bld/pytorch_1702400366987/work/aten/src/ATen/native/cudnn/Conv_v8.cpp:80.)\n",
      "  return F.conv2d(input, weight, bias, self.stride,\n"
     ]
    },
    {
     "name": "stdout",
     "output_type": "stream",
     "text": [
      "Epoch: 1/50.. Training Loss: 1.717..  Validation Loss: 1.440.. Training Accuracy: 0.370..  Validation Accuracy: 0.474\n",
      "Epoch: 5/50.. Training Loss: 1.194..  Validation Loss: 1.139.. Training Accuracy: 0.573..  Validation Accuracy: 0.590\n",
      "Epoch: 10/50.. Training Loss: 0.995..  Validation Loss: 0.968.. Training Accuracy: 0.647..  Validation Accuracy: 0.657\n",
      "Epoch: 15/50.. Training Loss: 0.881..  Validation Loss: 0.889.. Training Accuracy: 0.686..  Validation Accuracy: 0.684\n",
      "Epoch: 20/50.. Training Loss: 0.803..  Validation Loss: 0.848.. Training Accuracy: 0.711..  Validation Accuracy: 0.702\n",
      "Epoch: 25/50.. Training Loss: 0.755..  Validation Loss: 0.840.. Training Accuracy: 0.730..  Validation Accuracy: 0.706\n",
      "Epoch: 30/50.. Training Loss: 0.711..  Validation Loss: 0.820.. Training Accuracy: 0.743..  Validation Accuracy: 0.714\n",
      "Epoch: 35/50.. Training Loss: 0.678..  Validation Loss: 0.827.. Training Accuracy: 0.757..  Validation Accuracy: 0.710\n",
      "Epoch: 40/50.. Training Loss: 0.658..  Validation Loss: 0.830.. Training Accuracy: 0.764..  Validation Accuracy: 0.713\n",
      "Epoch: 45/50.. Training Loss: 0.637..  Validation Loss: 0.826.. Training Accuracy: 0.772..  Validation Accuracy: 0.719\n",
      "Epoch: 50/50.. Training Loss: 0.622..  Validation Loss: 0.826.. Training Accuracy: 0.776..  Validation Accuracy: 0.718\n"
     ]
    }
   ],
   "source": [
    "train_losses , dev_losses, train_acc , dev_acc = [],[],[],[]\n",
    "x_axis = []\n",
    "\n",
    "for e in range(1, epochs+1):\n",
    "    losses = 0\n",
    "    acc=0\n",
    "    iterations = 0\n",
    "    \n",
    "    model.train()\n",
    "    \n",
    "    # train loader 를 이용하여 배치 루프 돌리기\n",
    "    for data, target in train_loader:\n",
    "        iterations += 1 \n",
    "        \n",
    "        #forward , backard\n",
    "        pred =model(data.to(\"cuda\"))\n",
    "        loss = loss_function(pred,target.to(\"cuda\"))\n",
    "        optimizer.zero_grad()\n",
    "        loss.backward()\n",
    "        optimizer.step()\n",
    "        \n",
    "        losses += loss.item()\n",
    "        p = torch.exp(pred)\n",
    "        top_p , top_class = p.topk(1,dim=1)\n",
    "        acc += accuracy_score(target.to(\"cpu\"),top_class.to(\"cpu\"))\n",
    "    \n",
    "    dev_losss = 0\n",
    "    dev_accs = 0\n",
    "    iter_2 = 0\n",
    "    \n",
    "    if e%5 ==0 or e ==1 :\n",
    "        x_axis.append(e)\n",
    "        \n",
    "        with torch.no_grad(): #gradient descent 계산 중단하여 평가모델로 전환하기.\n",
    "            model.eval() #model.eval()은 PyTorch에서 모델을 평가(evaluation) 모드로 전환하는 메서드입니다. \n",
    "            #모델을 학습 중에 사용되는 드롭아웃(Dropout)과 배치 정규화(Batch Normalization)와 같은 층을 평가모드로 전환합니다.\n",
    "            \n",
    "            for data_dev , target_dev in dev_loader:\n",
    "                iter_2 += 1\n",
    "                \n",
    "                dev_pred = model(data_dev.to(\"cuda\"))\n",
    "                dev_loss = loss_function(dev_pred,target_dev.to(\"cuda\"))\n",
    "                dev_losss += dev_loss.item()\n",
    "                \n",
    "                dev_p = torch.exp(dev_pred)\n",
    "                top_p , dev_top_class = dev_p.topk(1,dim=1)\n",
    "                dev_accs += accuracy_score(target_dev.to(\"cpu\"), dev_top_class.to(\"cpu\"))\n",
    "            \n",
    "            \n",
    "        train_losses.append(losses/iterations)\n",
    "        dev_losses.append(dev_losss/iter_2)\n",
    "        train_acc.append(acc/iterations)\n",
    "        dev_acc.append(dev_accs/iter_2)\n",
    "        \n",
    "        print(\"Epoch: {}/{}..\".format(e,epochs),\n",
    "              \"Training Loss: {:.3f}.. \"\\\n",
    "              .format(losses/iterations),\n",
    "              \"Validation Loss: {:.3f}..\"\\\n",
    "              .format(dev_losss/iter_2),\n",
    "              \"Training Accuracy: {:.3f}.. \"\\\n",
    "              .format(acc/iterations),\n",
    "              \"Validation Accuracy: {:.3f}\"\\\n",
    "              .format(dev_accs/iter_2))\n",
    "              "
   ]
  },
  {
   "cell_type": "code",
   "execution_count": 10,
   "id": "d68e6f06-9b1d-4fdf-80c4-95c81f1dc160",
   "metadata": {},
   "outputs": [
    {
     "data": {
      "image/png": "[encoded data removed]",
      "text/plain": [
       "<Figure size 640x480 with 1 Axes>"
      ]
     },
     "metadata": {},
     "output_type": "display_data"
    }
   ],
   "source": [
    "plt.plot(x_axis,train_losses , label='Training loss')\n",
    "plt.plot(x_axis,dev_losses, label='Validation loss')\n",
    "plt.legend(frameon=False) #plot 의 테두리 그릴지 여부\n",
    "plt.show()"
   ]
  },
  {
   "cell_type": "code",
   "execution_count": 12,
   "id": "9b1afbbc-7f96-4fc3-bd11-bbfbe679fe23",
   "metadata": {},
   "outputs": [
    {
     "data": {
      "image/png": "[encoded data removed]",
      "text/plain": [
       "<Figure size 640x480 with 1 Axes>"
      ]
     },
     "metadata": {},
     "output_type": "display_data"
    }
   ],
   "source": [
    "plt.plot(x_axis , train_acc , label = \"Training accuracy\")\n",
    "plt.plot(x_axis, dev_acc , label=\"Validation accuracy\")\n",
    "plt.legend(frameon=False)\n",
    "plt.show()"
   ]
  },
  {
   "cell_type": "code",
   "execution_count": 15,
   "id": "9c688b71-9031-4547-8fde-a4902f5ce156",
   "metadata": {},
   "outputs": [
    {
     "name": "stdout",
     "output_type": "stream",
     "text": [
      "0.7184999999999999\n"
     ]
    }
   ],
   "source": [
    "# validation 에서도 연습해봤고 이제 test set 에 직접적인 accuracy 계산하기\n",
    "model.eval() # 평가모드\n",
    "iter_3 = 0\n",
    "acc_test = 0\n",
    "\n",
    "for data_test, target_test in test_loader:\n",
    "    iter_3 += 1\n",
    "    test_pred = model(data_test.to(\"cuda\"))\n",
    "    test_pred = torch.exp(test_pred)\n",
    "    top_p , top_class_test = test_pred.topk(1,dim=1)\n",
    "    acc_test += accuracy_score(target_test.to(\"cpu\"),\n",
    "                               top_class_test.to(\"cpu\"))\n",
    "    \n",
    "print(acc_test/iter_3)"
   ]
  },
  {
   "cell_type": "markdown",
   "id": "12ead70f-9d68-481e-87bd-01a399950bad",
   "metadata": {},
   "source": [
    "# CNN 완료\n",
    "\n",
    "### **해석**\n",
    "\n",
    "#### CNN 으로 동작하는데 어떠한 의미를 넣지않고 incoding 과 decoding 을 이용하여 단순하게 특징을 추출 시킨 것이다.\n",
    "<br>\n",
    "<br>\n",
    "\n",
    "\n",
    "> 그 사이의 동작은 1번 iteration 하는 동안 예측 -> loss -> optimizer 초기화 -> 역전파(loss backward / backpropagation) -> optimizer 1 step 전진 -> p = torch.exp(pred) 소프트맥스 진행 -> top_p , top_class = p.topk(1,dim=1) 가장큰값 1개 들고오기 -> 정확도 누적하여 계산하기.\n",
    "\n",
    "> 이 후 평가모델에서는 `학습된 model` 을 가지고 다시 test 셋에 돌리게 되는 작업 실행. \n"
   ]
  },
  {
   "cell_type": "markdown",
   "id": "d84d1595-dbd6-417e-b0fe-f70c5c0eee69",
   "metadata": {},
   "source": [
    "# 완료"
   ]
  },
  {
   "cell_type": "code",
   "execution_count": null,
   "id": "51a8c2d4-055c-4d1f-bf36-e07bc82afecf",
   "metadata": {},
   "outputs": [],
   "source": []
  }
 ],
 "metadata": {
  "kernelspec": {
   "display_name": "deep",
   "language": "python",
   "name": "deep"
  },
  "language_info": {
   "codemirror_mode": {
    "name": "ipython",
    "version": 3
   },
   "file_extension": ".py",
   "mimetype": "text/x-python",
   "name": "python",
   "nbconvert_exporter": "python",
   "pygments_lexer": "ipython3",
   "version": "3.10.13"
  }
 },
 "nbformat": 4,
 "nbformat_minor": 5
}
