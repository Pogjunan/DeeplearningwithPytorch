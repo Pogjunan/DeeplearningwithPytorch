{
 "cells": [
  {
   "cell_type": "markdown",
   "id": "edf0aaed-77a7-4ba6-a5bb-f4f497d41892",
   "metadata": {},
   "source": [
    "`[7]` DNN Coustom modules "
   ]
  },
  {
   "cell_type": "code",
   "execution_count": 1,
   "id": "8f738e90-3b54-4d73-9f18-ecb26da784e2",
   "metadata": {
    "tags": []
   },
   "outputs": [],
   "source": [
    "import torch\n",
    "import torch.nn as nn\n",
    "import torch.nn.functional as F\n",
    "\n",
    "D_i = 10\n",
    "D_h = 5\n",
    "D_o = 2"
   ]
  },
  {
   "cell_type": "code",
   "execution_count": 2,
   "id": "30a9d859-277d-4675-b8c3-3ddb628ba15f",
   "metadata": {
    "tags": []
   },
   "outputs": [],
   "source": [
    "class Classifier(torch.nn.Module):\n",
    "    \n",
    "    def __init__(self, D_i,D_h, D_o) :\n",
    "        super(Classifier,self).__init__()\n",
    "        self.linear1 = torch.nn.Linear(D_i,D_h)\n",
    "        self.linear2 = torch.nn.Linear(D_h,D_o)\n",
    "        \n",
    "    def forward(self,x):\n",
    "        z= F.relu(self.linear1(x))\n",
    "        o = F.softmax(self.linear2(z))\n",
    "        \n",
    "        return o"
   ]
  },
  {
   "cell_type": "code",
   "execution_count": 3,
   "id": "6addbdb9-7760-4ca5-978c-8faadbcd56c0",
   "metadata": {
    "tags": []
   },
   "outputs": [
    {
     "name": "stdout",
     "output_type": "stream",
     "text": [
      "Classifier(\n",
      "  (linear1): Linear(in_features=10, out_features=5, bias=True)\n",
      "  (linear2): Linear(in_features=5, out_features=2, bias=True)\n",
      ")\n"
     ]
    }
   ],
   "source": [
    "model =Classifier(D_i,D_h,D_o)\n",
    "print(model)"
   ]
  },
  {
   "cell_type": "markdown",
   "id": "e65e5cc7-75ea-46ca-95cb-4d1151b34098",
   "metadata": {},
   "source": [
    "# Defining the loss function and training the model. (Softmax , log_softmax , nn.NLLLose ( log-likelihood loss)\n"
   ]
  },
  {
   "cell_type": "code",
   "execution_count": null,
   "id": "2bb0eab4-7ec0-4479-ae6b-88fda8ec4a74",
   "metadata": {},
   "outputs": [],
   "source": [
    "from sklearn.utils import shuffle\n",
    "from torch import nn ,optim"
   ]
  },
  {
   "cell_type": "code",
   "execution_count": 8,
   "id": "71fc5888-2a15-48ac-84ef-a62e08d453ef",
   "metadata": {
    "tags": []
   },
   "outputs": [],
   "source": [
    "#snippet 예시 (단편적인 예시) \n",
    "\n",
    "model =Classifier(D_i,D_h,D_o)\n",
    "criterion = nn.NLLLoss()\n",
    "optimizer = optim.Adam(model.parameters(), lr= 0.005)\n",
    "epochs = 10\n",
    "batch_size =10"
   ]
  },
  {
   "cell_type": "code",
   "execution_count": 12,
   "id": "20428068-d1a3-42d2-a093-4e1495e32596",
   "metadata": {
    "tags": []
   },
   "outputs": [
    {
     "ename": "NameError",
     "evalue": "name 'X_train' is not defined",
     "output_type": "error",
     "traceback": [
      "\u001b[0;31m---------------------------------------------------------------------------\u001b[0m",
      "\u001b[0;31mNameError\u001b[0m                                 Traceback (most recent call last)",
      "Cell \u001b[0;32mIn[12], line 7\u001b[0m\n\u001b[1;32m      3\u001b[0m train_losses , dev_losses , \\\n\u001b[1;32m      4\u001b[0m train_acc , dev_acc \u001b[38;5;241m=\u001b[39m [],[],[],[]\n\u001b[1;32m      6\u001b[0m \u001b[38;5;28;01mfor\u001b[39;00m e \u001b[38;5;129;01min\u001b[39;00m \u001b[38;5;28mrange\u001b[39m(epochs):\n\u001b[0;32m----> 7\u001b[0m     X,y \u001b[38;5;241m=\u001b[39m shuffle(\u001b[43mX_train\u001b[49m, y_train)\n\u001b[1;32m      8\u001b[0m     running_loss \u001b[38;5;241m=\u001b[39m \u001b[38;5;241m0\u001b[39m\n\u001b[1;32m      9\u001b[0m     running_acc \u001b[38;5;241m=\u001b[39m \u001b[38;5;241m0\u001b[39m\n",
      "\u001b[0;31mNameError\u001b[0m: name 'X_train' is not defined"
     ]
    }
   ],
   "source": [
    "# loss 예시 형식\n",
    "\n",
    "train_losses , dev_losses , \\\n",
    "train_acc , dev_acc = [],[],[],[]\n",
    "\n",
    "for e in range(epochs):\n",
    "    X,y = shuffle(X_train, y_train)\n",
    "    running_loss = 0\n",
    "    running_acc = 0\n",
    "    iterations = 0\n",
    "    \n",
    "    for i in range(0,len(X) , batch_size):\n",
    "        iterations += 1 \n",
    "        b = i + batch_size\n",
    "        X_batch = torch.tensor(X.iloc[i:b,:].values).float()\n",
    "        y_batch = torch.tensor(y.iloc[i:b].values)\n",
    "        \n",
    "        pred = model(X_batch)\n",
    "        loss = criterion(pred,y_batch)\n",
    "        optimizer.zero_grad()\n",
    "        loss.backward()\n",
    "        optimizer.step()\n",
    "        \n",
    "        running_loss += loss.item()\n",
    "        ps=torch.exp(pred)\n",
    "        top_p, top_class = ps.topk(1, dim=1)\n",
    "        \n",
    "        running_acc += accuracy_score(y_batch, top_class)\n",
    "        \n",
    "    dev_loss = 0\n",
    "    acc = 0\n",
    "    \n",
    "    with torch.no_grad():\n",
    "        pred_dev = model(X_dev_torch)\n",
    "        dev_loss = criterion(pred_dev , y_dev_torch)\n",
    "        ps_dev = torch.exp(pred_dev)\n",
    "        top_p , top_class_dev= ps_dev.topk(1,dim=1)\n",
    "        acc = accuracy_score(y_dev_torch, top_class_dev)\n",
    "        \n",
    "    train_losses.append(running_loss/iterations)\n",
    "    dev_losses.append(dev_loss)\n",
    "    atrain_acc.append(running_acc/iterations)\n",
    "    dev_acc.append(acc)\n",
    "    \n",
    "    \n",
    "    print(\"Epoch: {}/{}. \".format(e+1,epochs), \\\n",
    "          \"Training Loss: {:.3f}.. \" \\\n",
    "          .format(running_loss/iterations), \\\n",
    "          \"Validation Loss: {:.3f}.. \"\\\n",
    "          .format(dev_+loss),\\\n",
    "           \"Training Accuracy: {:.3f}.. \"\\\n",
    "          .format(running_acc/iteraitons),\\\n",
    "          \"Validation Accuracy: {:.3f}\".format(acc))"
   ]
  },
  {
   "cell_type": "markdown",
   "id": "d36c0bd1-82a8-418c-82f5-2f4e3293428b",
   "metadata": {},
   "source": [
    "# 모든 절차는 이렇게 이루어집니다.\n"
   ]
  },
  {
   "cell_type": "code",
   "execution_count": null,
   "id": "452b915e-41a0-477e-b671-f7cdabb5fa0c",
   "metadata": {},
   "outputs": [],
   "source": []
  }
 ],
 "metadata": {
  "kernelspec": {
   "display_name": "deep",
   "language": "python",
   "name": "deep"
  },
  "language_info": {
   "codemirror_mode": {
    "name": "ipython",
    "version": 3
   },
   "file_extension": ".py",
   "mimetype": "text/x-python",
   "name": "python",
   "nbconvert_exporter": "python",
   "pygments_lexer": "ipython3",
   "version": "3.10.13"
  }
 },
 "nbformat": 4,
 "nbformat_minor": 5
}
