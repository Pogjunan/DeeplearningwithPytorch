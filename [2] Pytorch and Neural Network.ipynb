{
 "cells": [
  {
   "cell_type": "markdown",
   "id": "5fb578cd-1136-4870-9991-dbb747f1c137",
   "metadata": {
    "tags": []
   },
   "source": [
    "# `-` Pytorch 에 대한 소개와 가벼운 Neural Network 에 대한 정의"
   ]
  },
  {
   "cell_type": "markdown",
   "id": "28f05323-3921-4fe4-9800-dbfc68bd5ac9",
   "metadata": {
    "tags": []
   },
   "source": [
    "`-` neural network 의 정의가 중요한 이유는 CNN , RNN , DNN 등 모두 같은 이름을 쓰지만 사용하는 원리가 다르며 CNN 을 쓰다가 DNN 으로 옮겨집니다.\n",
    "<br>\n",
    "<br>\n",
    "또한 CNN 을 쓰다가 RNN 으로 옮겨지는 CRNN 이 있습니다. (시사점 : 서로 input 과 output 을 맞춘다면 이어서 쓸 수도 있다.)"
   ]
  },
  {
   "cell_type": "markdown",
   "id": "7766539d-ffdf-47c0-8cdf-65380aaaf306",
   "metadata": {},
   "source": [
    ">"
   ]
  },
  {
   "cell_type": "markdown",
   "id": "83cf2611-f68f-4c6c-a95c-50d59f4dfe04",
   "metadata": {},
   "source": [
    ">"
   ]
  },
  {
   "cell_type": "markdown",
   "id": "d145a3b8-32c3-4f91-8db7-51ededd3ff52",
   "metadata": {
    "tags": []
   },
   "source": [
    "--------"
   ]
  },
  {
   "cell_type": "markdown",
   "id": "49eaedbf-011e-4a30-9725-eeb0f3b1fa0f",
   "metadata": {},
   "source": [
    "# 1. `What Are Tensors`"
   ]
  },
  {
   "cell_type": "markdown",
   "id": "dcf60095-6ffd-4920-9c2d-eace42403bf8",
   "metadata": {},
   "source": [
    "- Numpy 와 비슷하게 생겼으며 Pytorch 가 사용하는 data 의 정제된 모습입니다.\n",
    "- Tensor 은 n차원의 행렬(Tensor=행렬의형태)로 GPU 에서 작동하여 빠르다는 장점이 있습니다.\n",
    "- tensor 이 지정되면 transform 을 통해서 크기와 모양을 쉽게 변형시킵니다.\n",
    "  - 실사용을 보면 `CustomDataset()`{이름바꿔도됩니다.} 이란 class 를 만들고 `transform` 이란 함수로 `transform.comfile` 내부에 `toTensor , resize` 등 으로 데이터를 쉽게 바꿉니다."
   ]
  },
  {
   "cell_type": "markdown",
   "id": "115221fa-324b-4c90-9f56-0a44a282ec17",
   "metadata": {
    "tags": []
   },
   "source": [
    "# 1.01 활동 : `Rank(쉽게 차원이라 생각) 다른 Tensor 만들기`\n",
    "`-` 정확한 `Rank` 의 정의는 선형대수학에서 배울 수 있습니다."
   ]
  },
  {
   "cell_type": "markdown",
   "id": "7301a2b9-af14-4477-a3cd-ebe31dad6ee1",
   "metadata": {},
   "source": [
    "`python`"
   ]
  },
  {
   "cell_type": "code",
   "execution_count": 1,
   "id": "aec8ec88-39b4-4361-bc44-303ec3349002",
   "metadata": {
    "tags": []
   },
   "outputs": [],
   "source": [
    "import torch"
   ]
  },
  {
   "cell_type": "code",
   "execution_count": 2,
   "id": "85e47968-a92a-4098-965f-d36adf59f581",
   "metadata": {
    "tags": []
   },
   "outputs": [],
   "source": [
    "tensor_1 = torch.tensor([0.1,1,0.9,0.7,0.3]).cuda()\n",
    "tensor_2 = torch.tensor([[0,0.2,0.4,0.6],[1,0.8,0.6,0.4]]).cuda()\n",
    "tensor_3 = torch.tensor([[[0.3,0.6],[1,0]], [[0.3,0.6],[0,1]]]).cuda()"
   ]
  },
  {
   "cell_type": "code",
   "execution_count": 3,
   "id": "4f1e7f2d-8595-49ba-9e19-750d59fbf004",
   "metadata": {
    "tags": []
   },
   "outputs": [
    {
     "name": "stdout",
     "output_type": "stream",
     "text": [
      "torch.Size([5])\n",
      "torch.Size([2, 4])\n",
      "torch.Size([2, 2, 2])\n"
     ]
    }
   ],
   "source": [
    "print(tensor_1.shape)\n",
    "print(tensor_2.shape)\n",
    "print(tensor_3.shape)"
   ]
  },
  {
   "cell_type": "markdown",
   "id": "6fa3ac8a-03b3-4c5f-8d0b-a1d3cd36b503",
   "metadata": {},
   "source": [
    ">\n"
   ]
  },
  {
   "cell_type": "markdown",
   "id": "33fed8e2-8009-42c5-99d0-424a65047f63",
   "metadata": {},
   "source": [
    "`tensor 곱`"
   ]
  },
  {
   "cell_type": "code",
   "execution_count": 4,
   "id": "5df370af-11c1-4466-a14c-3cd63414a20a",
   "metadata": {
    "tags": []
   },
   "outputs": [],
   "source": [
    "a = torch.tensor([5.0,3.0], requires_grad=True)\n",
    "b = torch.tensor([1.0,4.0])"
   ]
  },
  {
   "cell_type": "code",
   "execution_count": 5,
   "id": "be98c401-2bb9-4e97-9223-43cbcc594567",
   "metadata": {
    "tags": []
   },
   "outputs": [],
   "source": [
    "ab = ((a+b)**2).sum()"
   ]
  },
  {
   "cell_type": "code",
   "execution_count": 6,
   "id": "b48b66ca-de69-44b5-b31b-cbf109cb401d",
   "metadata": {
    "tags": []
   },
   "outputs": [
    {
     "data": {
      "text/plain": [
       "tensor(85., grad_fn=<SumBackward0>)"
      ]
     },
     "execution_count": 6,
     "metadata": {},
     "output_type": "execute_result"
    }
   ],
   "source": [
    "ab.backward(retain_graph=True) #retain_graph 는 역전파 중간을 볼 수 있는 함수\n",
    "ab"
   ]
  },
  {
   "cell_type": "code",
   "execution_count": 7,
   "id": "2057f3f3-ffcd-433a-80d5-05311293a515",
   "metadata": {
    "tags": []
   },
   "outputs": [
    {
     "data": {
      "text/plain": [
       "tensor(85., grad_fn=<SumBackward0>)"
      ]
     },
     "execution_count": 7,
     "metadata": {},
     "output_type": "execute_result"
    }
   ],
   "source": [
    "ab"
   ]
  },
  {
   "cell_type": "markdown",
   "id": "593fd03b-46b4-4bf2-8667-fd71ea0272f0",
   "metadata": {},
   "source": [
    "### `위의 과정을 autograd library 를 사용하였다고 합니다.`\n",
    "`-` autograd library : PyTorch의 autograd(자동 미분) 라이브러리는 딥러닝 모델에서 역전파(Backpropagation) 알고리즘을 구현하는 데 사용되는 핵심 기능입니다. 이 라이브러리는 모델의 파라미터에 대한 손실 함수의 기울기(gradient)를 자동으로 계산하고, 이를 통해 경사 하강법과 같은 최적화 알고리즘을 사용하여 모델의 파라미터를 업데이트합니다."
   ]
  },
  {
   "cell_type": "markdown",
   "id": "7439685f-36ae-4fe4-9976-1ed55d3a5e1c",
   "metadata": {},
   "source": [
    "`nn module 이용`\n",
    " - nn module 은 Sequential() 함수를 이용하며 network architecture 를 구성하는데 이용됩니다."
   ]
  },
  {
   "cell_type": "code",
   "execution_count": 8,
   "id": "72551c4d-a349-4f6b-92b6-60d19d44709f",
   "metadata": {
    "tags": []
   },
   "outputs": [],
   "source": [
    "import torch.nn as nn\n",
    "input_units = 1 #the number of features input data\n",
    "hidden_units = 2 #the number of nodes (hidden layer)\n",
    "output_units = 3 # the number of nodes (output layer)\n",
    "model = nn.Sequential(nn.Linear(input_units , hidden_units), \\\n",
    "                      nn.ReLU(), \\\n",
    "                      nn.Linear(hidden_units , output_units), \\\n",
    "                      nn.Sigmoid())\n",
    "loss_funct = nn.MSELoss()"
   ]
  },
  {
   "cell_type": "markdown",
   "id": "e8e36eed-6b52-4ca4-9218-80573ea25695",
   "metadata": {},
   "source": [
    "# 2. Optim Package\n",
    "```python\n",
    "optimizer = torch.optim.SGD(model.parameters(),lr=0.01)\n",
    "```"
   ]
  },
  {
   "cell_type": "markdown",
   "id": "1818a8ef-5e59-49c7-b81a-4417f9152827",
   "metadata": {
    "tags": []
   },
   "source": [
    "`-` 학습의 흐름"
   ]
  },
  {
   "cell_type": "code",
   "execution_count": 20,
   "id": "1f8a1bfb-33a2-400e-88f0-8f8fb2c7a341",
   "metadata": {},
   "outputs": [],
   "source": [
    "x = torch.randn(20,10)\n",
    "\n",
    "y = torch.randint(0,2, (20,1)).type(torch.FloatTensor)\n",
    "input_units = 10\n",
    "output_units = 1"
   ]
  },
  {
   "cell_type": "code",
   "execution_count": 21,
   "id": "89f2dcd8-49d1-46c7-a93b-69fde6b21aaf",
   "metadata": {},
   "outputs": [],
   "source": [
    "for i in range(100):\n",
    "    \n",
    "    y_pred = model(x)\n",
    "    \n",
    "    loss = loss_funct(y_pred,y)\n",
    "    \n",
    "    optimizer.zero_grad()\n",
    "    \n",
    "    loss.backward()\n",
    "    \n",
    "    optimizer.step()\n",
    "    "
   ]
  },
  {
   "cell_type": "markdown",
   "id": "e7c34d46-9e00-4da7-a5e1-90e03b04eb31",
   "metadata": {
    "tags": []
   },
   "source": [
    "# 1.03 활동 : TRAINING A NEURAL NETWORK"
   ]
  },
  {
   "cell_type": "code",
   "execution_count": 22,
   "id": "3b621d98-5d8e-412d-9cd9-257184f0d1de",
   "metadata": {
    "tags": []
   },
   "outputs": [],
   "source": [
    "import torch\n",
    "import torch.optim as optim\n",
    "import matplotlib.pyplot as plt"
   ]
  },
  {
   "cell_type": "code",
   "execution_count": 12,
   "id": "4b3c1f67-7572-464d-a5ff-a00cbc804634",
   "metadata": {
    "tags": []
   },
   "outputs": [],
   "source": [
    "input_units = 10\n",
    "output_units = 1"
   ]
  },
  {
   "cell_type": "code",
   "execution_count": 13,
   "id": "c5236043-5df9-4ebc-a1d4-8e5419ab4ced",
   "metadata": {
    "tags": []
   },
   "outputs": [],
   "source": [
    "model = nn.Sequential(nn.Linear(input_units, output_units), \n",
    "                      nn.Sigmoid())\n"
   ]
  },
  {
   "cell_type": "code",
   "execution_count": 14,
   "id": "17026673-b9f5-4afa-a0fb-655e6aa25dd4",
   "metadata": {
    "tags": []
   },
   "outputs": [
    {
     "name": "stdout",
     "output_type": "stream",
     "text": [
      "Sequential(\n",
      "  (0): Linear(in_features=10, out_features=1, bias=True)\n",
      "  (1): Sigmoid()\n",
      ")\n"
     ]
    }
   ],
   "source": [
    "print(model)"
   ]
  },
  {
   "cell_type": "code",
   "execution_count": 15,
   "id": "4b3e3c37-c183-4a56-ba25-3a40e1859326",
   "metadata": {
    "tags": []
   },
   "outputs": [],
   "source": [
    "loss_funct = nn.MSELoss()"
   ]
  },
  {
   "cell_type": "code",
   "execution_count": 16,
   "id": "e7afd941-58ab-42ef-b9b8-a5e0c28367e7",
   "metadata": {
    "tags": []
   },
   "outputs": [],
   "source": [
    "x = torch.randn(20,10)\n",
    "y = torch.randint(0,2, (20,1)).type(torch.FloatTensor)"
   ]
  },
  {
   "cell_type": "code",
   "execution_count": 17,
   "id": "e8881b02-39bf-4df4-8014-351e666e0a84",
   "metadata": {
    "tags": []
   },
   "outputs": [],
   "source": [
    "optimizer = optim.Adam(model.parameters(), lr=0.01)"
   ]
  },
  {
   "cell_type": "code",
   "execution_count": 18,
   "id": "ceebda48-8923-487a-9d88-d12932dba4e6",
   "metadata": {
    "tags": []
   },
   "outputs": [
    {
     "name": "stdout",
     "output_type": "stream",
     "text": [
      "0 0.2424137145280838\n",
      "5 0.22198042273521423\n",
      "10 0.20405073463916779\n",
      "15 0.18885047733783722\n"
     ]
    }
   ],
   "source": [
    "losses = []\n",
    "for i in range(20):\n",
    "    y_pred = model(x)\n",
    "    loss = loss_funct(y_pred, y)\n",
    "    losses.append(loss.item())\n",
    "    optimizer.zero_grad()\n",
    "    loss.backward()\n",
    "    optimizer.step()\n",
    "    \n",
    "    if i%5 == 0:\n",
    "        print(i, loss.item())"
   ]
  },
  {
   "cell_type": "code",
   "execution_count": 23,
   "id": "7648bd8f-fd6a-46d7-9038-30155e6250b0",
   "metadata": {
    "tags": []
   },
   "outputs": [
    {
     "data": {
      "image/png": "[encoded data removed]",
      "text/plain": [
       "<Figure size 640x480 with 1 Axes>"
      ]
     },
     "metadata": {},
     "output_type": "display_data"
    }
   ],
   "source": [
    "plt.plot(range(0,20), losses)\n",
    "plt.show()\n",
    "\n",
    "## loss 가 점점 줄어든다! ( 학습이 잘 되고 있다!)"
   ]
  },
  {
   "cell_type": "code",
   "execution_count": null,
   "id": "b7109259-5683-44da-b3bd-85175809908c",
   "metadata": {},
   "outputs": [],
   "source": []
  }
 ],
 "metadata": {
  "kernelspec": {
   "display_name": "Python 3 (ipykernel)",
   "language": "python",
   "name": "python3"
  },
  "language_info": {
   "codemirror_mode": {
    "name": "ipython",
    "version": 3
   },
   "file_extension": ".py",
   "mimetype": "text/x-python",
   "name": "python",
   "nbconvert_exporter": "python",
   "pygments_lexer": "ipython3",
   "version": "3.11.5"
  }
 },
 "nbformat": 4,
 "nbformat_minor": 5
}
