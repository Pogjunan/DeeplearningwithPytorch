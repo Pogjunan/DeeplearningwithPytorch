{
 "cells": [
  {
   "cell_type": "markdown",
   "id": "06c544ff-3c38-4b2f-8ea7-e57e8005679f",
   "metadata": {},
   "source": [
    "#### 리눅스 가상환경 리셋해버려서 github 의 토큰을 잃어버렸네요.\n",
    "\n",
    "# 토큰 재발급하기."
   ]
  },
  {
   "cell_type": "markdown",
   "id": "b008deb6-87ef-407c-b832-15d84095bb24",
   "metadata": {},
   "source": [
    "`방법` : https://github.com/settings/tokens 여기 접속해서 다시 만들기."
   ]
  },
  {
   "cell_type": "markdown",
   "id": "722f4eee-eaf8-40c0-a2df-f08e8d61e1cf",
   "metadata": {},
   "source": [
    "# 추가사항\n",
    "`-` 만료일은 최대한 없는 것이 편하고 밑에 체크표시는 사실 쓰는 기능인지 안쓰는 기능인지 잘 모르니 그냥 다 체크하고 사용하자. (기능을 알고 있다면 필요에 의해서만 사용하자)"
   ]
  },
  {
   "cell_type": "code",
   "execution_count": 1,
   "id": "e205ddaa-39d9-41d4-acef-784326b25bef",
   "metadata": {},
   "outputs": [],
   "source": [
    "# 끝"
   ]
  },
  {
   "cell_type": "markdown",
   "id": "2ba6fca0-0918-4d41-9a5c-af5e7fa344da",
   "metadata": {},
   "source": [
    "- 토큰을 안써본 분에게 token 이란.\n",
    "  - 깃허브에서 제공하는 고유의 비밀번호와 같은 역할로 다른 사람에게 절대 보여줘서는 안되는 문자열 <br>\n",
    "<br>\n",
    "\n",
    "`-` 토큰을 이용하여 jupyter lab 환경에서 terminal 에 git 을 깔아 사용할 때 git add . -> git commit -m . -> git push 로 빠르게 git 을 이용하여 github 에 repository 업데이트가 가능하다.\n",
    "<br>\n",
    "`-` git push 를 linux(Ubuntu) (conda환경) 에서 사용하면 git 닉네임을 입력하고 git password 를 적어야하는데 git password 에 토큰을 복사붙여넣기를 하면된다.\n",
    "\n",
    "<br>\n"
   ]
  },
  {
   "cell_type": "markdown",
   "id": "68ae28f6-808e-4a2d-90ae-9cabb4778d8f",
   "metadata": {},
   "source": [
    "\n",
    "## `-` 주의사항 : git 토큰은 단 1번만 보여주므로 복사를 하여 안전한 곳에 붙여넣기를하여 사용때마다 복붙을 이용하여 사용하도록 한다."
   ]
  },
  {
   "cell_type": "code",
   "execution_count": null,
   "id": "689319f5-249e-40ec-bd35-d0a2468c8015",
   "metadata": {},
   "outputs": [],
   "source": []
  }
 ],
 "metadata": {
  "kernelspec": {
   "display_name": "deep",
   "language": "python",
   "name": "deep"
  },
  "language_info": {
   "codemirror_mode": {
    "name": "ipython",
    "version": 3
   },
   "file_extension": ".py",
   "mimetype": "text/x-python",
   "name": "python",
   "nbconvert_exporter": "python",
   "pygments_lexer": "ipython3",
   "version": "3.10.13"
  }
 },
 "nbformat": 4,
 "nbformat_minor": 5
}
