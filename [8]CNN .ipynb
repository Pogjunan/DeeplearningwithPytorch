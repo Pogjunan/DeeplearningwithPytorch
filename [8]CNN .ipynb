{
 "cells": [
  {
   "cell_type": "markdown",
   "id": "a43ab369-27a8-451d-9501-eb837712ad7d",
   "metadata": {},
   "source": [
    "# Convolutional Neural Network"
   ]
  },
  {
   "cell_type": "markdown",
   "id": "cda4e1c2-ddfb-43b6-af19-7e9a06cc253a",
   "metadata": {},
   "source": [
    "- `컴퓨터 비전` 문제에 가장 main 으로 사용되는 풀이의 정수\n",
    "- 물체 탐지 기술을 잘 구현하여 자율주행 , 장기 탐지 , 사람 행동감지 등에 폭넓은 분야에서 사용합니다."
   ]
  },
  {
   "cell_type": "markdown",
   "id": "630d65a8-d4a2-4e1c-8210-b2c07c72d0b8",
   "metadata": {},
   "source": [
    "> **`CNN`** 을 사용하면 이미지 데이터를 사용하여 학습할 때 주요하게 봐야할 것은 CNN 기술뿐아니라 `data augmentation(데이터 증강, 데이터늘리기)` , `batch normalization(배치정규화)` 도 주의깊게 살펴보아야합니다."
   ]
  },
  {
   "cell_type": "code",
   "execution_count": null,
   "id": "7e48f5cd-b6b0-4182-b3d4-356bcd3a6960",
   "metadata": {},
   "outputs": [],
   "source": []
  }
 ],
 "metadata": {
  "kernelspec": {
   "display_name": "deep",
   "language": "python",
   "name": "deep"
  },
  "language_info": {
   "codemirror_mode": {
    "name": "ipython",
    "version": 3
   },
   "file_extension": ".py",
   "mimetype": "text/x-python",
   "name": "python",
   "nbconvert_exporter": "python",
   "pygments_lexer": "ipython3",
   "version": "3.10.13"
  }
 },
 "nbformat": 4,
 "nbformat_minor": 5
}
