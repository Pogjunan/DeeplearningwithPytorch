{
 "cells": [
  {
   "cell_type": "markdown",
   "id": "6b0688ac-c00b-4cf4-a70b-0ee1ddb0855d",
   "metadata": {},
   "source": [
    "# `THE DEEP LEARNING WITH PYTORCH WORKSHOP`\n",
    "`(딥러닝 파이토치 워크샵)` : 책 원본 영어 파이토치 이용"
   ]
  },
  {
   "cell_type": "markdown",
   "id": "2f54f954-baa6-4d54-b3b2-6ecc0bc7f723",
   "metadata": {},
   "source": [
    "- Context Key : realistic use-cases (실제사용에 중점)\n",
    "- 각 장이 끝나고 `challenges` you to draw together what you've learned and apply your new skills to solve a problem."
   ]
  },
  {
   "cell_type": "markdown",
   "id": "2401af4b-1943-4bd0-a95c-f3fffbba3792",
   "metadata": {},
   "source": [
    "# Table of Contents\n",
    "---\n",
    "Preface(서문)\n",
    "---\n",
    "Chapter 1:Introduction to Deep Learning and PyTorch\n",
    "---\n",
    "Introduction to pytorch\n",
    "<br>\n",
    "---\n",
    "Chapter 2:Building Blocks of Neural networks\n",
    "---\n",
    "What are Neural Networks\n",
    "Multi-Layer perceptron\n",
    "The Learning Process of a Neural Network\n",
    "Advantages and Disadvantages\n",
    "ANN , CNN , RNN \n",
    "**Data Preparation**\n",
    "Building Deep Neural network\n",
    "---\n",
    "Chapter 3: A Classification Problem Using DNN\n",
    "---\n",
    "Problem Definition\n",
    "Dealing with an Underfitted or Overfitted Model\n",
    "Deplooying Your Model\n",
    "---\n",
    "Chapter 4: Convolutional Neural Networks\n",
    "---\n",
    "CNN and calculating the output shape and Augmentation , Batch Normalization ...\n",
    "\n",
    "<br>\n",
    "\n",
    "---\n",
    "Chapter 5 : Style Transfer\n",
    "---\n",
    "Style Trasnfer and VGG-19 Network Architecture (Using style transfer)\n",
    "\n",
    "<br>\n",
    "\n",
    "---\n",
    "Chapter 6 : Analyzing the Sequence of Data with RNNs\n",
    "---\n",
    "RNN , LSTM , OneHot Matrix , NLP , Sentiment Analysis(감성 분석)"
   ]
  },
  {
   "cell_type": "markdown",
   "id": "90326092-5484-4a71-aaf3-010a94f672da",
   "metadata": {},
   "source": [
    ">"
   ]
  },
  {
   "cell_type": "markdown",
   "id": "9d257af9-b9fa-4e99-a824-4a328bccc478",
   "metadata": {},
   "source": [
    ">"
   ]
  },
  {
   "cell_type": "markdown",
   "id": "59a85805-43e6-42b3-ad6b-794720b1010a",
   "metadata": {},
   "source": [
    "# `[Impression]`"
   ]
  },
  {
   "cell_type": "markdown",
   "id": "a9bd1000-f869-45ab-aee6-815c406b6cd9",
   "metadata": {
    "tags": []
   },
   "source": [
    "### `-` machine learning 의 기초를 영어 원본을 활용하여 배울 수 있는 책으로 이전의 책보다 원리에 더 중점을 두어 tensor 란 무엇인가? 와 같은 여러 원리를 알려주어 도움이 많이 되었습니다."
   ]
  },
  {
   "cell_type": "code",
   "execution_count": null,
   "id": "f70d22b7-a186-422e-839a-13e41ad53630",
   "metadata": {},
   "outputs": [],
   "source": []
  }
 ],
 "metadata": {
  "kernelspec": {
   "display_name": "Python (hf)",
   "language": "python",
   "name": "hf"
  },
  "language_info": {
   "codemirror_mode": {
    "name": "ipython",
    "version": 3
   },
   "file_extension": ".py",
   "mimetype": "text/x-python",
   "name": "python",
   "nbconvert_exporter": "python",
   "pygments_lexer": "ipython3",
   "version": "3.10.13"
  }
 },
 "nbformat": 4,
 "nbformat_minor": 5
}
