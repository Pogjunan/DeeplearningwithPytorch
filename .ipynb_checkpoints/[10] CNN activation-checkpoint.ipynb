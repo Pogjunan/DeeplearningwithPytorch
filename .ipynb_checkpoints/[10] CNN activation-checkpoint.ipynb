{
 "cells": [
  {
   "cell_type": "markdown",
   "id": "20838a8e-cf7f-47e0-8149-88c231d76763",
   "metadata": {},
   "source": [
    "# [10] CNN 돌리기 (CNN Activatioon)"
   ]
  },
  {
   "cell_type": "code",
   "execution_count": null,
   "id": "f9ab5fd8-ff2c-401b-8237-50c565c4f731",
   "metadata": {},
   "outputs": [],
   "source": []
  }
 ],
 "metadata": {
  "kernelspec": {
   "display_name": "deep",
   "language": "python",
   "name": "deep"
  },
  "language_info": {
   "codemirror_mode": {
    "name": "ipython",
    "version": 3
   },
   "file_extension": ".py",
   "mimetype": "text/x-python",
   "name": "python",
   "nbconvert_exporter": "python",
   "pygments_lexer": "ipython3",
   "version": "3.10.13"
  }
 },
 "nbformat": 4,
 "nbformat_minor": 5
}
