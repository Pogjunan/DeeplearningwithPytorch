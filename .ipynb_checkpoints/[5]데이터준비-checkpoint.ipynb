{
 "cells": [
  {
   "cell_type": "markdown",
   "id": "a82d9bc9-e42a-4983-b272-292bad803bfa",
   "metadata": {},
   "source": [
    "# `[5] Data Preparation`\n",
    "\n",
    "`-` 데이터를 준비하는 것에서부터 딥러닝은 시작이라고 볼 수 있습니다.\n",
    "<br> 데이터가 어떻게 생겼는지부터 봐야 EDA전처리 과정을 잘 하여 다음 목표를 잘 세울 수 있고\n",
    "<br> 데이터의 input 을 잘 조정하여 어떤 model 에 넣어도 되는지를 볼 수 있고\n",
    "<br> 다른 model 을 사용할 때 input 이 안 맞을 때 맞출 수 있는 방법까지 알아보는 가장 가장 매우 매우 중요한 단계라 생각합니다. **(이론을 제외하고 실습파트에서 가장 중요한 부분이라 생각)**"
   ]
  },
  {
   "cell_type": "markdown",
   "id": "a12b3bf3-dd2d-4d8a-9c04-446736722771",
   "metadata": {},
   "source": [
    "-----"
   ]
  },
  {
   "cell_type": "markdown",
   "id": "a9c9ea92-3322-47b4-a2af-6a7276275513",
   "metadata": {},
   "source": [
    "`The process of preparing the data can be divided into three main tasks(데이터 준비에 3가지 과정):`\n",
    "1. data 를 이해하고 잠재적인 문제를 다루기\n",
    "2. 특징을 편향이 없도록 rescaling(재구조화)시켜 mistake 를 제거하기.\n",
    "3. 정확도를 측정할 수 있게 데이터를 쪼개기."
   ]
  },
  {
   "cell_type": "markdown",
   "id": "309ef852-cb1f-4a72-92b0-4f3e6737a955",
   "metadata": {},
   "source": [
    "# Dealing with messy data\n",
    "- EDA (exploratory data analysis 데이터분석탐험) 진행하여 잠재문제를 탐색하고 모델이 더 좋은 성능을 내도록 영향을 주는 과정입니다.\n",
    "<br>\n",
    "\n",
    "**(1) Quantity of data** \n",
    "<br>\n",
    "- 많은 instance(예시?) 와 많은 features(특징)을 얘기하고있습니다. <br>\n",
    "<br>\n",
    "`-` 시작전 체크 : 이 문제를 nn(neural network)로 풀 수 있는것인가, 현재 꼭 필요한 과정인가? 이 두가지를 체크합니다.\n",
    "<br>\n",
    "`-` feature selection methodologies : 자신만의 방식으로 feature 를 줄이며 연습(practice)에 도움이 되는 feature 인지 선택하기.\n",
    "\n",
    "<br>\n",
    "\n",
    "**(2) the target feature** <br>\n",
    "\n",
    "- 지도학습의 모델에서 data 에 라벨은 필요합니다.\n",
    "\n",
    "<br>\n",
    "\n",
    "`-` target feature 정하는 것은 중요합니다.(예측해야할 변수 특정시키기)\n",
    "\n",
    "<br>\n",
    "\n",
    "**(3) Noisy data/outliers** <br>\n",
    "\n",
    "`-` Noisy data 는 실제와 맞지않은 데이터를 의미하고 영향을 끼칠 수 있습니다. <br>\n",
    "`-` outliers 는 실제와는 맞지만 특별한 예시일 수 있기에 이를 그냥 적용시키면 완전 이상하게 예측을 시킬 수 있습니다. <br>\n",
    "`-` 이들을 그냥 제거하는 것은 좋지 않을 수 도 있고 좋을 수 도 있기 때문에 처리방법에 대해서 다양하게 있습니다. <br>\n",
    "\n",
    "**(4) Missing values** <br>\n",
    "- missing values 인 경우에는 단순히 제거하거나 중앙값,평균값으로 대체하는 것이 보통 좋습니다. 그 후 많은 경우에 개수를 맞추어주어야하고 이는 python 실력이 중요하다고 생각이 듭니다.\n",
    "<br>\n",
    "\n",
    "**(5) Qualitative features** <br>\n",
    "- **`질적 자료`** 라는 의미로 수치로 나타낼 수 없는 자료입니다. \n",
    "`-` removing(제거)하거나 사용한다면encoding 으로 정확한 모델을 찾는 것이 중요합니다. #encoding 이란점차 데이터크기를 줄이면서 특징을 추출하는 기술 (반대말로 decoding 이 존재)\n",
    "<br>"
   ]
  },
  {
   "cell_type": "code",
   "execution_count": null,
   "id": "d922bd83-e03d-44b9-a1bc-986ef8030ec5",
   "metadata": {},
   "outputs": [],
   "source": []
  }
 ],
 "metadata": {
  "kernelspec": {
   "display_name": "Python 3 (ipykernel)",
   "language": "python",
   "name": "python3"
  },
  "language_info": {
   "codemirror_mode": {
    "name": "ipython",
    "version": 3
   },
   "file_extension": ".py",
   "mimetype": "text/x-python",
   "name": "python",
   "nbconvert_exporter": "python",
   "pygments_lexer": "ipython3",
   "version": "3.11.5"
  }
 },
 "nbformat": 4,
 "nbformat_minor": 5
}
